{
 "cells": [
  {
   "metadata": {},
   "cell_type": "markdown",
   "source": [
    "# Train mô hình Support Vector Machine"
   ],
   "id": "c00f63a3901833f"
  },
  {
   "metadata": {
    "ExecuteTime": {
     "end_time": "2024-12-09T11:45:34.425119Z",
     "start_time": "2024-12-09T11:45:34.411120Z"
    }
   },
   "cell_type": "code",
   "source": [
    "import numpy as np\n",
    "import random\n",
    "\n",
    "SEED = 42\n",
    "np.random.seed(SEED)\n",
    "random.seed(SEED)"
   ],
   "id": "7caa287726a73e40",
   "outputs": [],
   "execution_count": 1
  },
  {
   "cell_type": "code",
   "id": "initial_id",
   "metadata": {
    "collapsed": true,
    "ExecuteTime": {
     "end_time": "2024-12-09T11:45:34.581231Z",
     "start_time": "2024-12-09T11:45:34.427116Z"
    }
   },
   "source": [
    "import os\n",
    "import json\n",
    "import joblib\n",
    "from sklearn.svm import SVC\n",
    "import pandas as pd\n"
   ],
   "outputs": [],
   "execution_count": 2
  },
  {
   "metadata": {},
   "cell_type": "markdown",
   "source": [
    "## Prepare Data"
   ],
   "id": "71f6235742cb9d6f"
  },
  {
   "metadata": {
    "ExecuteTime": {
     "end_time": "2024-12-09T11:45:34.596741Z",
     "start_time": "2024-12-09T11:45:34.583415Z"
    }
   },
   "cell_type": "code",
   "source": [
    "def prepareData(dir_train, dir_test):\n",
    "    data_train = pd.read_csv(dir_train)\n",
    "    data_test = pd.read_csv(dir_test)\n",
    "\n",
    "    X_train = data_train.drop(['Activity', 'Activity_code'], axis=1)\n",
    "    y_train = data_train['Activity_code']\n",
    "\n",
    "    X_test = data_test.drop(['Activity', 'Activity_code'], axis=1)\n",
    "    y_test = data_test['Activity_code']\n",
    "\n",
    "    return X_train, X_test, y_train, y_test\n"
   ],
   "id": "7126ae45bf4a7402",
   "outputs": [],
   "execution_count": 3
  },
  {
   "metadata": {},
   "cell_type": "markdown",
   "source": [
    "## Load Best Hyperparameter"
   ],
   "id": "50349b15dd457117"
  },
  {
   "metadata": {
    "ExecuteTime": {
     "end_time": "2024-12-09T11:45:34.611744Z",
     "start_time": "2024-12-09T11:45:34.597743Z"
    }
   },
   "cell_type": "code",
   "source": [
    "def load_parameters_from_json(json_path):\n",
    "    if not os.path.exists(json_path):\n",
    "        raise FileNotFoundError(f\"File {json_path} không tồn tại!\")\n",
    "    with open(json_path, 'r', encoding='utf-8') as file:\n",
    "        params = json.load(file)\n",
    "    return params\n"
   ],
   "id": "10ff8f16ee667f53",
   "outputs": [],
   "execution_count": 4
  },
  {
   "metadata": {},
   "cell_type": "markdown",
   "source": [
    "## Create train Model function"
   ],
   "id": "56ecadbc2af42ab1"
  },
  {
   "metadata": {
    "ExecuteTime": {
     "end_time": "2024-12-09T11:46:32.745626Z",
     "start_time": "2024-12-09T11:46:32.728110Z"
    }
   },
   "cell_type": "code",
   "source": [
    "def train_SVM(X_train, y_train, X_test, y_test, params):\n",
    "    \n",
    "    C = params['C']\n",
    "    kernel = params['kernel']\n",
    "    degree = params['degree']\n",
    "    gamma = params['gamma']\n",
    "    coef0 = params['coef0'] \n",
    " \n",
    "    model = SVC(C=C, kernel=kernel, degree=degree, gamma=gamma, coef0=coef0)\n",
    "    model.fit(X_train, y_train)\n",
    "    \n",
    "    y_pre = model.predict(X_test)\n",
    "    accuracy = model.score(X_test, y_test)\n",
    "    print(f\"Accuracy: {accuracy}\")\n",
    "\n",
    "    return model"
   ],
   "id": "16c6e486a17cb2b3",
   "outputs": [],
   "execution_count": 9
  },
  {
   "metadata": {},
   "cell_type": "markdown",
   "source": [
    "## Save Model"
   ],
   "id": "d52d38973e303c3b"
  },
  {
   "metadata": {
    "ExecuteTime": {
     "end_time": "2024-12-09T11:45:34.643429Z",
     "start_time": "2024-12-09T11:45:34.628229Z"
    }
   },
   "cell_type": "code",
   "source": [
    "def save_model(model, model_path):\n",
    "    joblib.dump(model, model_path)\n",
    "    print(f\"Mô hình đã được lưu tại: {model_path}\")"
   ],
   "id": "21eaa951f6399971",
   "outputs": [],
   "execution_count": 6
  },
  {
   "metadata": {},
   "cell_type": "markdown",
   "source": [
    "## Train model"
   ],
   "id": "176b7cdd637a299a"
  },
  {
   "metadata": {
    "ExecuteTime": {
     "end_time": "2024-12-09T11:46:35.333839Z",
     "start_time": "2024-12-09T11:46:34.815443Z"
    }
   },
   "cell_type": "code",
   "source": [
    "dir_train = \"../../data/interim/trainFinal.csv\"\n",
    "dir_test = \"../../data/interim/testFinal.csv\"\n",
    "dir_param = \"../hyperparameter_tuning/Best_Hyperparameter/best_parameter_SVM.json\"\n",
    "params = load_parameters_from_json(dir_param)\n",
    "\n",
    "X_train = X_train.values\n",
    "X_test = X_test.values"
   ],
   "id": "4a69a440eb1e4b5a",
   "outputs": [],
   "execution_count": 10
  },
  {
   "metadata": {
    "ExecuteTime": {
     "end_time": "2024-12-09T11:46:40.099319Z",
     "start_time": "2024-12-09T11:46:37.585077Z"
    }
   },
   "cell_type": "code",
   "source": [
    "model = train_SVM(X_train, y_train, X_test, y_test, params)\n",
    "save_model(model, \"../../models/SVM_model.pkl\")"
   ],
   "id": "2ea76f4e8fa22b10",
   "outputs": [
    {
     "name": "stdout",
     "output_type": "stream",
     "text": [
      "Accuracy: 0.9630132337970818\n",
      "Mô hình đã được lưu tại: ../../models/SVM_model.pkl\n"
     ]
    }
   ],
   "execution_count": 11
  },
  {
   "metadata": {},
   "cell_type": "markdown",
   "source": "## Train model with PCA",
   "id": "3392a8bd94f2f32a"
  },
  {
   "metadata": {
    "ExecuteTime": {
     "end_time": "2024-12-09T12:21:24.114946Z",
     "start_time": "2024-12-09T12:21:18.338862Z"
    }
   },
   "cell_type": "code",
   "source": [
    "dir_train = \"../../data/interim/train_PCA.csv\"\n",
    "dir_test = \"../../data/interim/test_PCA.csv\"\n",
    "\n",
    "data_train_PCA = pd.read_csv(dir_train)\n",
    "data_test_PCA = pd.read_csv(dir_test)\n",
    "\n",
    "model_PCA = train_SVM(data_train_PCA, y_train, data_test_PCA, y_test, params)"
   ],
   "id": "bb07db3e8d569552",
   "outputs": [
    {
     "name": "stdout",
     "output_type": "stream",
     "text": [
      "Accuracy: 0.9114353579911775\n"
     ]
    }
   ],
   "execution_count": 12
  },
  {
   "metadata": {},
   "cell_type": "code",
   "outputs": [],
   "execution_count": null,
   "source": "",
   "id": "a6e07094f830ef18"
  }
 ],
 "metadata": {
  "kernelspec": {
   "display_name": "Python 3",
   "language": "python",
   "name": "python3"
  },
  "language_info": {
   "codemirror_mode": {
    "name": "ipython",
    "version": 2
   },
   "file_extension": ".py",
   "mimetype": "text/x-python",
   "name": "python",
   "nbconvert_exporter": "python",
   "pygments_lexer": "ipython2",
   "version": "2.7.6"
  }
 },
 "nbformat": 4,
 "nbformat_minor": 5
}
