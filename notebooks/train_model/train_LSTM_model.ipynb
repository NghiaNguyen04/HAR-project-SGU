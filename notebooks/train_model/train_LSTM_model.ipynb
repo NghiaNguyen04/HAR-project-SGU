{
 "cells": [
  {
   "metadata": {},
   "cell_type": "markdown",
   "source": "# Train LSTM model with PCA features",
   "id": "f1b4425d92eecd55"
  },
  {
   "metadata": {},
   "cell_type": "markdown",
   "source": "Model LSTM: 4 layers, 256 units, 0.3 dropout",
   "id": "aca137c0fda81752"
  },
  {
   "metadata": {
    "ExecuteTime": {
     "end_time": "2024-12-09T12:45:59.271334Z",
     "start_time": "2024-12-09T12:45:59.252120Z"
    }
   },
   "cell_type": "code",
   "source": [
    "import pandas as pd\n",
    "import tensorflow as tf\n",
    "from tensorflow.keras.models import Sequential\n",
    "from tensorflow.keras.layers import LSTM, Dense, Dropout\n",
    "from tensorflow.keras.callbacks import EarlyStopping\n",
    "from tensorflow.keras.models import load_model\n",
    "import pickle\n",
    "import numpy as np"
   ],
   "id": "aa603f28be79a77a",
   "outputs": [],
   "execution_count": 7
  },
  {
   "metadata": {
    "ExecuteTime": {
     "end_time": "2024-12-09T12:45:59.286687Z",
     "start_time": "2024-12-09T12:45:59.272797Z"
    }
   },
   "cell_type": "code",
   "source": [
    "import os\n",
    "\n",
    "def save_model(model, history, base_dir_model, bar_dir_history, model_name, sub_model_name=\"\"):\n",
    "\n",
    "    # Tạo thư mục chính nếu chưa tồn tại\n",
    "    if not os.path.exists(base_dir_model):\n",
    "        os.makedirs(base_dir_model)\n",
    "    if not os.path.exists(bar_dir_history):\n",
    "        os.makedirs(bar_dir_history)\n",
    "\n",
    "    model_file = os.path.join(base_dir_model, f\"model_{model_name}_{sub_model_name}.h5\")\n",
    "    history_file = os.path.join(bar_dir_history, f\"history_{model_name}_{sub_model_name}.pkl\")\n",
    "\n",
    "    # Lưu model\n",
    "    model.save(model_file)\n",
    "    print(f\"Model saved to: {model_file}\")\n",
    "\n",
    "    # Lưu lịch sử huấn luyện\n",
    "    with open(history_file, \"wb\") as f:\n",
    "        pickle.dump(history.history, f)\n",
    "    print(f\"Model history saved to: {history_file}\")\n",
    "\n"
   ],
   "id": "e2bdf1e50959d1c",
   "outputs": [],
   "execution_count": 8
  },
  {
   "metadata": {
    "ExecuteTime": {
     "end_time": "2024-12-09T12:45:59.301853Z",
     "start_time": "2024-12-09T12:45:59.287688Z"
    }
   },
   "cell_type": "code",
   "source": [
    "def build_lstm_model(input_shape, output_shape, number_UnitsLSTM):\n",
    "    model = Sequential()\n",
    "    for i in range (4):\n",
    "        model.add(LSTM(number_UnitsLSTM, input_shape=input_shape, return_sequences=True))\n",
    "        model.add(Dropout(0.3))\n",
    "    model.add(Dense(number_UnitsLSTM, activation='relu'))\n",
    "    model.add(Dense(output_shape, activation='softmax'))\n",
    "    return model\n",
    "\n",
    "def train_lstm_model(X_train, Y_train, X_val, Y_val, number_UnitsLSTM, batch_size=32, epochs=10):\n",
    "    model = build_lstm_model((X_train.shape[1], X_train.shape[2]), len(np.unique(Y_train)),number_UnitsLSTM)\n",
    "    optimizer = tf.keras.optimizers.Adam(learning_rate=0.001)\n",
    "    model.compile(loss='sparse_categorical_crossentropy', optimizer=optimizer, metrics=['accuracy'])\n",
    "    early_stopping = EarlyStopping(patience=10, restore_best_weights=True)\n",
    "    history = model.fit(X_train, Y_train, epochs=epochs, batch_size=batch_size,\n",
    "                        validation_data=(X_val, Y_val), callbacks=[early_stopping], verbose=1)\n",
    "    return model, history"
   ],
   "id": "710f787d246a99a2",
   "outputs": [],
   "execution_count": 9
  },
  {
   "metadata": {
    "ExecuteTime": {
     "end_time": "2024-12-09T12:45:59.875741Z",
     "start_time": "2024-12-09T12:45:59.303852Z"
    }
   },
   "cell_type": "code",
   "source": [
    "def prepareData(dir_train, dir_test):\n",
    "    data_train = pd.read_csv(dir_train)\n",
    "    data_test = pd.read_csv(dir_test)\n",
    "\n",
    "    X_train = data_train.drop(['Activity', 'Activity_code'], axis=1)\n",
    "    y_train = data_train['Activity_code']\n",
    "\n",
    "    X_test = data_test.drop(['Activity', 'Activity_code'], axis=1)\n",
    "    y_test = data_test['Activity_code']\n",
    "\n",
    "    return X_train, X_test, y_train, y_test\n",
    "\n",
    "dir_train = \"../../data/interim/trainFinal.csv\"\n",
    "dir_test = \"../../data/interim/testFinal.csv\"\n",
    "X_train, X_test, y_train, y_test = prepareData(dir_train, dir_test)"
   ],
   "id": "613d4ceb0af052e0",
   "outputs": [],
   "execution_count": 10
  },
  {
   "metadata": {
    "ExecuteTime": {
     "end_time": "2024-12-09T12:49:43.789359Z",
     "start_time": "2024-12-09T12:49:43.634478Z"
    }
   },
   "cell_type": "code",
   "source": [
    "dir_train = \"../../data/interim/train_PCA.csv\"\n",
    "dir_test = \"../../data/interim/test_PCA.csv\"\n",
    "\n",
    "data_train_PCA = pd.read_csv(dir_train)\n",
    "data_test_PCA = pd.read_csv(dir_test)\n",
    "data_test_PCA = data_test_PCA.to_numpy()\n",
    "data_train_PCA = data_train_PCA.to_numpy()\n",
    "data_train_PCA = data_train_PCA.reshape((data_train_PCA.shape[0], 1, data_train_PCA.shape[1]))\n",
    "data_test_PCA = data_test_PCA.reshape((data_test_PCA.shape[0], 1, data_test_PCA.shape[1]))"
   ],
   "id": "b4e7afd76f3a94d0",
   "outputs": [],
   "execution_count": 16
  },
  {
   "metadata": {
    "ExecuteTime": {
     "end_time": "2024-12-09T12:51:20.036157Z",
     "start_time": "2024-12-09T12:50:41.585168Z"
    }
   },
   "cell_type": "code",
   "source": [
    "# Train LSTM model\n",
    "epochs = 50\n",
    "model_list_2 = []\n",
    "model_history_list_2 = []\n",
    "base_dir_model = \"Experiment_Tracking_LSTM/models\"\n",
    "bar_dir_history = \"Experiment_Tracking_LSTM/history_models\"\n",
    "\n",
    "model, history = train_lstm_model(data_train_PCA, y_train, data_test_PCA, y_test, epochs=epochs, number_UnitsLSTM=256)\n",
    "model_name = \"Exp4\"\n",
    "sub_model_name = \"LSTM_with_PCA_dataset\"\n",
    "save_model(model, history, base_dir_model, bar_dir_history, model_name, sub_model_name)\n",
    "\n"
   ],
   "id": "7795ae39e0ebbd82",
   "outputs": [
    {
     "name": "stdout",
     "output_type": "stream",
     "text": [
      "Epoch 1/50\n",
      "230/230 [==============================] - 14s 40ms/step - loss: 0.6227 - accuracy: 0.6961 - val_loss: 0.2560 - val_accuracy: 0.9192\n",
      "Epoch 2/50\n",
      "230/230 [==============================] - 2s 9ms/step - loss: 0.1061 - accuracy: 0.9626 - val_loss: 0.2146 - val_accuracy: 0.9318\n",
      "Epoch 3/50\n",
      "230/230 [==============================] - 2s 9ms/step - loss: 0.0695 - accuracy: 0.9735 - val_loss: 0.2212 - val_accuracy: 0.9382\n",
      "Epoch 4/50\n",
      "230/230 [==============================] - 2s 10ms/step - loss: 0.0522 - accuracy: 0.9801 - val_loss: 0.2809 - val_accuracy: 0.9203\n",
      "Epoch 5/50\n",
      "230/230 [==============================] - 3s 11ms/step - loss: 0.0444 - accuracy: 0.9845 - val_loss: 0.3385 - val_accuracy: 0.9250\n",
      "Epoch 6/50\n",
      "230/230 [==============================] - 2s 9ms/step - loss: 0.0342 - accuracy: 0.9867 - val_loss: 0.2851 - val_accuracy: 0.9352\n",
      "Epoch 7/50\n",
      "230/230 [==============================] - 2s 9ms/step - loss: 0.0225 - accuracy: 0.9916 - val_loss: 0.2876 - val_accuracy: 0.9457\n",
      "Epoch 8/50\n",
      "230/230 [==============================] - 2s 9ms/step - loss: 0.0215 - accuracy: 0.9928 - val_loss: 0.3375 - val_accuracy: 0.9318\n",
      "Epoch 9/50\n",
      "230/230 [==============================] - 2s 9ms/step - loss: 0.0298 - accuracy: 0.9916 - val_loss: 0.3629 - val_accuracy: 0.9243\n",
      "Epoch 10/50\n",
      "230/230 [==============================] - 2s 8ms/step - loss: 0.0230 - accuracy: 0.9936 - val_loss: 0.3125 - val_accuracy: 0.9362\n",
      "Epoch 11/50\n",
      "230/230 [==============================] - 2s 8ms/step - loss: 0.0136 - accuracy: 0.9958 - val_loss: 0.2751 - val_accuracy: 0.9447\n",
      "Epoch 12/50\n",
      "230/230 [==============================] - 2s 8ms/step - loss: 0.0147 - accuracy: 0.9940 - val_loss: 0.2949 - val_accuracy: 0.9379\n",
      "Model saved to: Experiment_Tracking_LSTM/models\\model_Exp4_LSTM_with_PCA_dataset.h5\n",
      "Model history saved to: Experiment_Tracking_LSTM/history_models\\history_Exp4_LSTM_with_PCA_dataset.pkl\n"
     ]
    }
   ],
   "execution_count": 18
  },
  {
   "metadata": {
    "ExecuteTime": {
     "end_time": "2024-12-09T12:52:31.855737Z",
     "start_time": "2024-12-09T12:52:31.849002Z"
    }
   },
   "cell_type": "code",
   "source": "max(history.history['val_accuracy'])",
   "id": "c99d6e6b534d346b",
   "outputs": [
    {
     "data": {
      "text/plain": [
       "0.9457074999809265"
      ]
     },
     "execution_count": 21,
     "metadata": {},
     "output_type": "execute_result"
    }
   ],
   "execution_count": 21
  },
  {
   "metadata": {},
   "cell_type": "code",
   "source": "",
   "id": "361268fcf7e40e73",
   "outputs": [],
   "execution_count": null
  }
 ],
 "metadata": {
  "kernelspec": {
   "display_name": "Python 3",
   "language": "python",
   "name": "python3"
  },
  "language_info": {
   "codemirror_mode": {
    "name": "ipython",
    "version": 2
   },
   "file_extension": ".py",
   "mimetype": "text/x-python",
   "name": "python",
   "nbconvert_exporter": "python",
   "pygments_lexer": "ipython2",
   "version": "2.7.6"
  }
 },
 "nbformat": 4,
 "nbformat_minor": 5
}
