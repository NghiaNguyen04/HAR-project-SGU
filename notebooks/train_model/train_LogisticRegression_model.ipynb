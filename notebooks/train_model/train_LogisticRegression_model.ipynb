{
 "cells": [
  {
   "metadata": {},
   "cell_type": "markdown",
   "source": "# Train mô hình Logistic Regression",
   "id": "c00f63a3901833f"
  },
  {
   "metadata": {
    "ExecuteTime": {
     "end_time": "2024-12-09T11:32:07.037038Z",
     "start_time": "2024-12-09T11:32:07.025614Z"
    }
   },
   "cell_type": "code",
   "source": [
    "import numpy as np\n",
    "import random\n",
    "\n",
    "SEED = 42\n",
    "np.random.seed(SEED)\n",
    "random.seed(SEED)"
   ],
   "id": "afe89e95f045f4f6",
   "outputs": [],
   "execution_count": 4
  },
  {
   "cell_type": "code",
   "id": "initial_id",
   "metadata": {
    "collapsed": true,
    "ExecuteTime": {
     "end_time": "2024-12-09T11:32:07.052406Z",
     "start_time": "2024-12-09T11:32:07.049340Z"
    }
   },
   "source": [
    "import os\n",
    "import json\n",
    "import joblib\n",
    "from sklearn.linear_model import LogisticRegression\n",
    "from sklearn.metrics import accuracy_score\n",
    "import pandas as pd\n"
   ],
   "outputs": [],
   "execution_count": 5
  },
  {
   "metadata": {},
   "cell_type": "markdown",
   "source": [
    "## Prepare Data"
   ],
   "id": "71f6235742cb9d6f"
  },
  {
   "metadata": {
    "ExecuteTime": {
     "end_time": "2024-12-09T11:32:07.068463Z",
     "start_time": "2024-12-09T11:32:07.053419Z"
    }
   },
   "cell_type": "code",
   "source": [
    "def prepareData(dir_train, dir_test):\n",
    "    data_train = pd.read_csv(dir_train)\n",
    "    data_test = pd.read_csv(dir_test)\n",
    "\n",
    "    X_train = data_train.drop(['Activity', 'Activity_code'], axis=1)\n",
    "    y_train = data_train['Activity_code']\n",
    "\n",
    "    X_test = data_test.drop(['Activity', 'Activity_code'], axis=1)\n",
    "    y_test = data_test['Activity_code']\n",
    "\n",
    "    return X_train, X_test, y_train, y_test\n"
   ],
   "id": "7126ae45bf4a7402",
   "outputs": [],
   "execution_count": 6
  },
  {
   "metadata": {},
   "cell_type": "markdown",
   "source": [
    "## Load Best Hyperparameter"
   ],
   "id": "50349b15dd457117"
  },
  {
   "metadata": {
    "ExecuteTime": {
     "end_time": "2024-12-09T11:32:07.083962Z",
     "start_time": "2024-12-09T11:32:07.069464Z"
    }
   },
   "cell_type": "code",
   "source": [
    "def load_parameters_from_json(json_path):\n",
    "    if not os.path.exists(json_path):\n",
    "        raise FileNotFoundError(f\"File {json_path} không tồn tại!\")\n",
    "    with open(json_path, 'r', encoding='utf-8') as file:\n",
    "        params = json.load(file)\n",
    "    return params\n"
   ],
   "id": "10ff8f16ee667f53",
   "outputs": [],
   "execution_count": 7
  },
  {
   "metadata": {},
   "cell_type": "markdown",
   "source": [
    "## Create train Model function"
   ],
   "id": "56ecadbc2af42ab1"
  },
  {
   "metadata": {
    "ExecuteTime": {
     "end_time": "2024-12-09T11:32:07.099434Z",
     "start_time": "2024-12-09T11:32:07.085391Z"
    }
   },
   "cell_type": "code",
   "source": [
    "def train_logistic_regression(X_train, y_train, X_test, y_test, params):\n",
    "\n",
    "    C = params['C']\n",
    "    penalty = params['penalty']\n",
    "    solver = params['solver']\n",
    "    max_iter = params['max_iter']\n",
    "\n",
    "    model = LogisticRegression(penalty=penalty, C=C, solver=solver, max_iter=max_iter)\n",
    "    model.fit(X_train, y_train)\n",
    "    \n",
    "    y_pred = model.predict(X_test)\n",
    "    accuracy = accuracy_score(y_test, y_pred)\n",
    "    print(f\"Accuracy: {accuracy}\")\n",
    "    return model"
   ],
   "id": "16c6e486a17cb2b3",
   "outputs": [],
   "execution_count": 8
  },
  {
   "metadata": {},
   "cell_type": "markdown",
   "source": "## Save Model function",
   "id": "d52d38973e303c3b"
  },
  {
   "metadata": {
    "ExecuteTime": {
     "end_time": "2024-12-09T11:32:07.114745Z",
     "start_time": "2024-12-09T11:32:07.100438Z"
    }
   },
   "cell_type": "code",
   "source": [
    "def save_model(model, model_path):\n",
    "    joblib.dump(model, model_path)\n",
    "    print(f\"Mô hình đã được lưu tại: {model_path}\")"
   ],
   "id": "21eaa951f6399971",
   "outputs": [],
   "execution_count": 9
  },
  {
   "metadata": {},
   "cell_type": "markdown",
   "source": "## Train model",
   "id": "176b7cdd637a299a"
  },
  {
   "metadata": {
    "ExecuteTime": {
     "end_time": "2024-12-09T11:32:19.633347Z",
     "start_time": "2024-12-09T11:32:19.079960Z"
    }
   },
   "cell_type": "code",
   "source": [
    "dir_train = \"../../data/interim/trainFinal.csv\"\n",
    "dir_test = \"../../data/interim/testFinal.csv\"\n",
    "dir_param = \"../hyperparameter_tuning/Best_Hyperparameter/best_parameter_LogisticRegression.json\"\n",
    "params = load_parameters_from_json(dir_param)\n",
    "X_train, X_test, y_train, y_test = prepareData(dir_train, dir_test)\n",
    "X_train = X_train.values\n",
    "X_test = X_test.values"
   ],
   "id": "4a69a440eb1e4b5a",
   "outputs": [],
   "execution_count": 12
  },
  {
   "metadata": {
    "ExecuteTime": {
     "end_time": "2024-12-09T11:34:23.463094Z",
     "start_time": "2024-12-09T11:34:20.346100Z"
    }
   },
   "cell_type": "code",
   "source": "model = train_logistic_regression(X_train, y_train, X_test, y_test, params)",
   "id": "15b50198c354dd1d",
   "outputs": [
    {
     "name": "stdout",
     "output_type": "stream",
     "text": [
      "Accuracy: 0.9616559212758737\n"
     ]
    }
   ],
   "execution_count": 13
  },
  {
   "metadata": {},
   "cell_type": "code",
   "outputs": [],
   "execution_count": null,
   "source": "save_model(model, \"../../models/LogisticRegression_model.pkl\")",
   "id": "f0c869c615bb22d9"
  },
  {
   "metadata": {},
   "cell_type": "markdown",
   "source": "## Train model với dữ liệu PCA",
   "id": "23d37887bda944f6"
  },
  {
   "metadata": {
    "ExecuteTime": {
     "end_time": "2024-12-09T11:35:20.465118Z",
     "start_time": "2024-12-09T11:35:19.011112Z"
    }
   },
   "cell_type": "code",
   "source": [
    "dir_train = \"../../data/interim/train_PCA.csv\"\n",
    "dir_test = \"../../data/interim/test_PCA.csv\"\n",
    "\n",
    "data_train_PCA = pd.read_csv(dir_train)\n",
    "data_test_PCA = pd.read_csv(dir_test)\n",
    "\n",
    "model_PCA = train_logistic_regression(data_train_PCA, y_train, data_test_PCA, y_test, params)"
   ],
   "id": "2ea76f4e8fa22b10",
   "outputs": [
    {
     "name": "stdout",
     "output_type": "stream",
     "text": [
      "Accuracy: 0.9304377332880895\n"
     ]
    }
   ],
   "execution_count": 15
  },
  {
   "metadata": {},
   "cell_type": "markdown",
   "source": "",
   "id": "cd87ef4bd0835f36"
  },
  {
   "metadata": {
    "ExecuteTime": {
     "end_time": "2024-12-09T11:32:07.868046Z",
     "start_time": "2024-12-09T11:32:07.853098Z"
    }
   },
   "cell_type": "code",
   "source": [],
   "id": "bb07db3e8d569552",
   "outputs": [],
   "execution_count": 11
  }
 ],
 "metadata": {
  "kernelspec": {
   "display_name": "Python 3",
   "language": "python",
   "name": "python3"
  },
  "language_info": {
   "codemirror_mode": {
    "name": "ipython",
    "version": 2
   },
   "file_extension": ".py",
   "mimetype": "text/x-python",
   "name": "python",
   "nbconvert_exporter": "python",
   "pygments_lexer": "ipython2",
   "version": "2.7.6"
  }
 },
 "nbformat": 4,
 "nbformat_minor": 5
}
