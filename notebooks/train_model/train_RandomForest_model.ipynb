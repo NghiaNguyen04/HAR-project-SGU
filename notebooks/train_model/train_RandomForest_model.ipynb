{
 "cells": [
  {
   "metadata": {},
   "cell_type": "markdown",
   "source": [
    "# Train mô hình Random Forest"
   ],
   "id": "c00f63a3901833f"
  },
  {
   "metadata": {
    "ExecuteTime": {
     "end_time": "2024-12-05T15:33:32.651492Z",
     "start_time": "2024-12-05T15:33:32.638090Z"
    }
   },
   "cell_type": "code",
   "source": [
    "import numpy as np\n",
    "import random\n",
    "\n",
    "SEED = 42\n",
    "np.random.seed(SEED)\n",
    "random.seed(SEED)"
   ],
   "id": "4ddd25d5df34f71e",
   "outputs": [],
   "execution_count": 9
  },
  {
   "cell_type": "code",
   "id": "initial_id",
   "metadata": {
    "collapsed": true,
    "ExecuteTime": {
     "end_time": "2024-12-05T15:33:32.697493Z",
     "start_time": "2024-12-05T15:33:32.685980Z"
    }
   },
   "source": [
    "import os\n",
    "import json\n",
    "import joblib\n",
    "from sklearn.ensemble import RandomForestClassifier\n",
    "from sklearn.metrics import accuracy_score\n",
    "import pandas as pd\n"
   ],
   "outputs": [],
   "execution_count": 10
  },
  {
   "metadata": {},
   "cell_type": "markdown",
   "source": [
    "## Prepare Data"
   ],
   "id": "71f6235742cb9d6f"
  },
  {
   "metadata": {
    "ExecuteTime": {
     "end_time": "2024-12-05T15:33:32.712403Z",
     "start_time": "2024-12-05T15:33:32.698492Z"
    }
   },
   "cell_type": "code",
   "source": [
    "def prepareData(dir_train, dir_test):\n",
    "    data_train = pd.read_csv(dir_train)\n",
    "    data_test = pd.read_csv(dir_test)\n",
    "\n",
    "    X_train = data_train.drop(['Activity', 'Activity_code'], axis=1)\n",
    "    y_train = data_train['Activity_code']\n",
    "\n",
    "    X_test = data_test.drop(['Activity', 'Activity_code'], axis=1)\n",
    "    y_test = data_test['Activity_code']\n",
    "\n",
    "    return X_train, X_test, y_train, y_test\n"
   ],
   "id": "7126ae45bf4a7402",
   "outputs": [],
   "execution_count": 11
  },
  {
   "metadata": {},
   "cell_type": "markdown",
   "source": [
    "## Load Best Hyperparameter"
   ],
   "id": "50349b15dd457117"
  },
  {
   "metadata": {
    "ExecuteTime": {
     "end_time": "2024-12-05T15:33:32.728401Z",
     "start_time": "2024-12-05T15:33:32.714401Z"
    }
   },
   "cell_type": "code",
   "source": [
    "def load_parameters_from_json(json_path):\n",
    "    if not os.path.exists(json_path):\n",
    "        raise FileNotFoundError(f\"File {json_path} không tồn tại!\")\n",
    "    with open(json_path, 'r', encoding='utf-8') as file:\n",
    "        params = json.load(file)\n",
    "    return params\n"
   ],
   "id": "10ff8f16ee667f53",
   "outputs": [],
   "execution_count": 12
  },
  {
   "metadata": {},
   "cell_type": "markdown",
   "source": [
    "## Create train Model function"
   ],
   "id": "56ecadbc2af42ab1"
  },
  {
   "metadata": {
    "ExecuteTime": {
     "end_time": "2024-12-05T15:33:32.743759Z",
     "start_time": "2024-12-05T15:33:32.729401Z"
    }
   },
   "cell_type": "code",
   "source": [
    "def train_random_forest(X_train, y_train, X_test, y_test, params):\n",
    "\n",
    "    bootstrap = params['bootstrap']=='True'\n",
    "    max_depth =  params['max_depth']\n",
    "    min_samples_leaf = params['min_samples_leaf']\n",
    "    min_samples_split = params['min_samples_split']\n",
    "    model = RandomForestClassifier(bootstrap = bootstrap, \n",
    "                                   max_depth = max_depth, \n",
    "                                   min_samples_leaf = min_samples_leaf, \n",
    "                                   min_samples_split = min_samples_split)\n",
    "    model.fit(X_train, y_train)\n",
    "\n",
    "    return model"
   ],
   "id": "16c6e486a17cb2b3",
   "outputs": [],
   "execution_count": 13
  },
  {
   "metadata": {},
   "cell_type": "markdown",
   "source": [
    "## Save Model"
   ],
   "id": "d52d38973e303c3b"
  },
  {
   "metadata": {
    "ExecuteTime": {
     "end_time": "2024-12-05T15:33:32.759041Z",
     "start_time": "2024-12-05T15:33:32.744759Z"
    }
   },
   "cell_type": "code",
   "source": [
    "def save_model(model, model_path):\n",
    "    joblib.dump(model, model_path)\n",
    "    print(f\"Mô hình đã được lưu tại: {model_path}\")"
   ],
   "id": "21eaa951f6399971",
   "outputs": [],
   "execution_count": 14
  },
  {
   "metadata": {},
   "cell_type": "markdown",
   "source": [
    "## Train model"
   ],
   "id": "176b7cdd637a299a"
  },
  {
   "metadata": {
    "ExecuteTime": {
     "end_time": "2024-12-05T15:33:33.302622Z",
     "start_time": "2024-12-05T15:33:32.760044Z"
    }
   },
   "cell_type": "code",
   "source": [
    "dir_train = \"../../data/interim/trainFinal.csv\"\n",
    "dir_test = \"../../data/interim/testFinal.csv\"\n",
    "dir_param = \"../hyperparameter_tuning/Best_Hyperparameter/best_parameter_RandomForest.json\"\n",
    "params = load_parameters_from_json(dir_param)\n",
    "X_train, X_test, y_train, y_test = prepareData(dir_train, dir_test)\n",
    "X_train = X_train.values\n",
    "X_test = X_test.values"
   ],
   "id": "4a69a440eb1e4b5a",
   "outputs": [],
   "execution_count": 15
  },
  {
   "metadata": {
    "ExecuteTime": {
     "end_time": "2024-12-05T15:33:50.799067Z",
     "start_time": "2024-12-05T15:33:33.304623Z"
    }
   },
   "cell_type": "code",
   "source": [
    "model = train_random_forest(X_train, y_train, X_test, y_test, params)\n",
    "save_model(model, \"../../models/RandomForest_model.pkl\")"
   ],
   "id": "2ea76f4e8fa22b10",
   "outputs": [
    {
     "name": "stdout",
     "output_type": "stream",
     "text": [
      "Mô hình đã được lưu tại: ../../models/RandomForest_model.pkl\n"
     ]
    }
   ],
   "execution_count": 16
  },
  {
   "metadata": {
    "ExecuteTime": {
     "end_time": "2024-12-05T15:33:50.814863Z",
     "start_time": "2024-12-05T15:33:50.801069Z"
    }
   },
   "cell_type": "code",
   "source": [],
   "id": "bb07db3e8d569552",
   "outputs": [],
   "execution_count": 16
  }
 ],
 "metadata": {
  "kernelspec": {
   "display_name": "Python 3",
   "language": "python",
   "name": "python3"
  },
  "language_info": {
   "codemirror_mode": {
    "name": "ipython",
    "version": 2
   },
   "file_extension": ".py",
   "mimetype": "text/x-python",
   "name": "python",
   "nbconvert_exporter": "python",
   "pygments_lexer": "ipython2",
   "version": "2.7.6"
  }
 },
 "nbformat": 4,
 "nbformat_minor": 5
}
