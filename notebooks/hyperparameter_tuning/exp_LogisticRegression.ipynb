{
 "cells": [
  {
   "metadata": {
    "ExecuteTime": {
     "end_time": "2024-12-05T13:39:32.588556Z",
     "start_time": "2024-12-05T13:39:32.571125Z"
    }
   },
   "cell_type": "code",
   "source": [
    "# # This Python 3 environment comes with many helpful analytics libraries installed\n",
    "# # It is defined by the kaggle/python Docker image: https://github.com/kaggle/docker-python\n",
    "# # For example, here's several helpful packages to load\n",
    "# \n",
    "# import numpy as np # linear algebra\n",
    "# import pandas as pd # data processing, CSV file I/O (e.g. pd.read_csv)\n",
    "# \n",
    "# # Input data files are available in the read-only \"../input/\" directory\n",
    "# # For example, running this (by clicking run or pressing Shift+Enter) will list all files under the input directory\n",
    "# \n",
    "# import os\n",
    "# for dirname, _, filenames in os.walk('/kaggle/input'):\n",
    "#     for filename in filenames:\n",
    "#         print(os.path.join(dirname, filename))\n",
    "# \n",
    "# # You can write up to 20GB to the current directory (/kaggle/working/) that gets preserved as output when you create a version using \"Save & Run All\" \n",
    "# # You can also write temporary files to /kaggle/temp/, but they won't be saved outside of the current session"
   ],
   "id": "c13ccfa3",
   "outputs": [],
   "execution_count": 1
  },
  {
   "cell_type": "markdown",
   "id": "d9f03e4e",
   "metadata": {
    "papermill": {
     "duration": 0.002076,
     "end_time": "2024-11-29T15:49:56.635108",
     "exception": false,
     "start_time": "2024-11-29T15:49:56.633032",
     "status": "completed"
    },
    "tags": []
   },
   "source": [
    "#  Tuning parameters for logistic regression model"
   ]
  },
  {
   "metadata": {
    "ExecuteTime": {
     "end_time": "2024-12-05T13:39:32.695314Z",
     "start_time": "2024-12-05T13:39:32.590050Z"
    }
   },
   "cell_type": "code",
   "source": [
    "import numpy as np\n",
    "import random\n",
    "\n",
    "SEED = 42\n",
    "np.random.seed(SEED)\n",
    "random.seed(SEED)"
   ],
   "id": "e685bc083810c660",
   "outputs": [],
   "execution_count": 2
  },
  {
   "metadata": {},
   "cell_type": "markdown",
   "source": [
    "## Load data"
   ],
   "id": "42737f4c55224f81"
  },
  {
   "cell_type": "code",
   "id": "5d486475",
   "metadata": {
    "execution": {
     "iopub.execute_input": "2024-11-29T15:49:56.641522Z",
     "iopub.status.busy": "2024-11-29T15:49:56.641010Z",
     "iopub.status.idle": "2024-11-29T15:49:58.792373Z",
     "shell.execute_reply": "2024-11-29T15:49:58.791219Z"
    },
    "papermill": {
     "duration": 2.157367,
     "end_time": "2024-11-29T15:49:58.794742",
     "exception": false,
     "start_time": "2024-11-29T15:49:56.637375",
     "status": "completed"
    },
    "tags": [],
    "ExecuteTime": {
     "end_time": "2024-12-06T16:41:39.665736Z",
     "start_time": "2024-12-06T16:41:39.088142Z"
    }
   },
   "source": [
    "import pandas as pd\n",
    "\n",
    "data_train = pd.read_csv('../../data/interim/trainFinal.csv')\n",
    "data_test = pd.read_csv('../../data/interim/testFinal.csv')\n",
    "data_train.head()"
   ],
   "outputs": [
    {
     "data": {
      "text/plain": "   tBodyAcc-mean()-X  tBodyAcc-mean()-Y  tBodyAcc-mean()-Z  tBodyAcc-std()-X  \\\n0           0.288585          -0.020294          -0.132905         -0.995279   \n1           0.278419          -0.016411          -0.123520         -0.998245   \n2           0.279653          -0.019467          -0.113462         -0.995380   \n3           0.279174          -0.026201          -0.123283         -0.996091   \n4           0.276629          -0.016570          -0.115362         -0.998139   \n\n   tBodyAcc-std()-Y  tBodyAcc-std()-Z  tBodyAcc-mad()-X  tBodyAcc-mad()-Y  \\\n0         -0.983111         -0.913526         -0.995112         -0.983185   \n1         -0.975300         -0.960322         -0.998807         -0.974914   \n2         -0.967187         -0.978944         -0.996520         -0.963668   \n3         -0.983403         -0.990675         -0.997099         -0.982750   \n4         -0.980817         -0.990482         -0.998321         -0.979672   \n\n   tBodyAcc-mad()-Z  tBodyAcc-max()-X  ...  fBodyBodyGyroJerkMag-kurtosis()  \\\n0         -0.923527         -0.934724  ...                        -0.710304   \n1         -0.957686         -0.943068  ...                        -0.861499   \n2         -0.977469         -0.938692  ...                        -0.760104   \n3         -0.989302         -0.938692  ...                        -0.482845   \n4         -0.990441         -0.942469  ...                        -0.699205   \n\n   angle(tBodyAccMean,gravity)  angle(tBodyAccJerkMean),gravityMean)  \\\n0                    -0.112754                              0.030400   \n1                     0.053477                             -0.007435   \n2                    -0.118559                              0.177899   \n3                    -0.036788                             -0.012892   \n4                     0.123320                              0.122542   \n\n   angle(tBodyGyroMean,gravityMean)  angle(tBodyGyroJerkMean,gravityMean)  \\\n0                         -0.464761                             -0.018446   \n1                         -0.732626                              0.703511   \n2                          0.100699                              0.808529   \n3                          0.640011                             -0.485366   \n4                          0.693578                             -0.615971   \n\n   angle(X,gravityMean)  angle(Y,gravityMean)  angle(Z,gravityMean)  Activity  \\\n0             -0.841247              0.179941             -0.058627  STANDING   \n1             -0.844788              0.180289             -0.054317  STANDING   \n2             -0.848933              0.180637             -0.049118  STANDING   \n3             -0.848649              0.181935             -0.047663  STANDING   \n4             -0.847865              0.185151             -0.043892  STANDING   \n\n   Activity_code  \n0              2  \n1              2  \n2              2  \n3              2  \n4              2  \n\n[5 rows x 563 columns]",
      "text/html": "<div>\n<style scoped>\n    .dataframe tbody tr th:only-of-type {\n        vertical-align: middle;\n    }\n\n    .dataframe tbody tr th {\n        vertical-align: top;\n    }\n\n    .dataframe thead th {\n        text-align: right;\n    }\n</style>\n<table border=\"1\" class=\"dataframe\">\n  <thead>\n    <tr style=\"text-align: right;\">\n      <th></th>\n      <th>tBodyAcc-mean()-X</th>\n      <th>tBodyAcc-mean()-Y</th>\n      <th>tBodyAcc-mean()-Z</th>\n      <th>tBodyAcc-std()-X</th>\n      <th>tBodyAcc-std()-Y</th>\n      <th>tBodyAcc-std()-Z</th>\n      <th>tBodyAcc-mad()-X</th>\n      <th>tBodyAcc-mad()-Y</th>\n      <th>tBodyAcc-mad()-Z</th>\n      <th>tBodyAcc-max()-X</th>\n      <th>...</th>\n      <th>fBodyBodyGyroJerkMag-kurtosis()</th>\n      <th>angle(tBodyAccMean,gravity)</th>\n      <th>angle(tBodyAccJerkMean),gravityMean)</th>\n      <th>angle(tBodyGyroMean,gravityMean)</th>\n      <th>angle(tBodyGyroJerkMean,gravityMean)</th>\n      <th>angle(X,gravityMean)</th>\n      <th>angle(Y,gravityMean)</th>\n      <th>angle(Z,gravityMean)</th>\n      <th>Activity</th>\n      <th>Activity_code</th>\n    </tr>\n  </thead>\n  <tbody>\n    <tr>\n      <th>0</th>\n      <td>0.288585</td>\n      <td>-0.020294</td>\n      <td>-0.132905</td>\n      <td>-0.995279</td>\n      <td>-0.983111</td>\n      <td>-0.913526</td>\n      <td>-0.995112</td>\n      <td>-0.983185</td>\n      <td>-0.923527</td>\n      <td>-0.934724</td>\n      <td>...</td>\n      <td>-0.710304</td>\n      <td>-0.112754</td>\n      <td>0.030400</td>\n      <td>-0.464761</td>\n      <td>-0.018446</td>\n      <td>-0.841247</td>\n      <td>0.179941</td>\n      <td>-0.058627</td>\n      <td>STANDING</td>\n      <td>2</td>\n    </tr>\n    <tr>\n      <th>1</th>\n      <td>0.278419</td>\n      <td>-0.016411</td>\n      <td>-0.123520</td>\n      <td>-0.998245</td>\n      <td>-0.975300</td>\n      <td>-0.960322</td>\n      <td>-0.998807</td>\n      <td>-0.974914</td>\n      <td>-0.957686</td>\n      <td>-0.943068</td>\n      <td>...</td>\n      <td>-0.861499</td>\n      <td>0.053477</td>\n      <td>-0.007435</td>\n      <td>-0.732626</td>\n      <td>0.703511</td>\n      <td>-0.844788</td>\n      <td>0.180289</td>\n      <td>-0.054317</td>\n      <td>STANDING</td>\n      <td>2</td>\n    </tr>\n    <tr>\n      <th>2</th>\n      <td>0.279653</td>\n      <td>-0.019467</td>\n      <td>-0.113462</td>\n      <td>-0.995380</td>\n      <td>-0.967187</td>\n      <td>-0.978944</td>\n      <td>-0.996520</td>\n      <td>-0.963668</td>\n      <td>-0.977469</td>\n      <td>-0.938692</td>\n      <td>...</td>\n      <td>-0.760104</td>\n      <td>-0.118559</td>\n      <td>0.177899</td>\n      <td>0.100699</td>\n      <td>0.808529</td>\n      <td>-0.848933</td>\n      <td>0.180637</td>\n      <td>-0.049118</td>\n      <td>STANDING</td>\n      <td>2</td>\n    </tr>\n    <tr>\n      <th>3</th>\n      <td>0.279174</td>\n      <td>-0.026201</td>\n      <td>-0.123283</td>\n      <td>-0.996091</td>\n      <td>-0.983403</td>\n      <td>-0.990675</td>\n      <td>-0.997099</td>\n      <td>-0.982750</td>\n      <td>-0.989302</td>\n      <td>-0.938692</td>\n      <td>...</td>\n      <td>-0.482845</td>\n      <td>-0.036788</td>\n      <td>-0.012892</td>\n      <td>0.640011</td>\n      <td>-0.485366</td>\n      <td>-0.848649</td>\n      <td>0.181935</td>\n      <td>-0.047663</td>\n      <td>STANDING</td>\n      <td>2</td>\n    </tr>\n    <tr>\n      <th>4</th>\n      <td>0.276629</td>\n      <td>-0.016570</td>\n      <td>-0.115362</td>\n      <td>-0.998139</td>\n      <td>-0.980817</td>\n      <td>-0.990482</td>\n      <td>-0.998321</td>\n      <td>-0.979672</td>\n      <td>-0.990441</td>\n      <td>-0.942469</td>\n      <td>...</td>\n      <td>-0.699205</td>\n      <td>0.123320</td>\n      <td>0.122542</td>\n      <td>0.693578</td>\n      <td>-0.615971</td>\n      <td>-0.847865</td>\n      <td>0.185151</td>\n      <td>-0.043892</td>\n      <td>STANDING</td>\n      <td>2</td>\n    </tr>\n  </tbody>\n</table>\n<p>5 rows × 563 columns</p>\n</div>"
     },
     "execution_count": 1,
     "metadata": {},
     "output_type": "execute_result"
    }
   ],
   "execution_count": 1
  },
  {
   "metadata": {},
   "cell_type": "markdown",
   "source": [
    "## 2. Create X and y variables"
   ],
   "id": "66c08c828aa30d74"
  },
  {
   "cell_type": "code",
   "id": "9aeca596",
   "metadata": {
    "execution": {
     "iopub.execute_input": "2024-11-29T15:49:58.801963Z",
     "iopub.status.busy": "2024-11-29T15:49:58.801564Z",
     "iopub.status.idle": "2024-11-29T15:49:58.830495Z",
     "shell.execute_reply": "2024-11-29T15:49:58.829302Z"
    },
    "papermill": {
     "duration": 0.035744,
     "end_time": "2024-11-29T15:49:58.833192",
     "exception": false,
     "start_time": "2024-11-29T15:49:58.797448",
     "status": "completed"
    },
    "tags": [],
    "ExecuteTime": {
     "end_time": "2024-12-05T13:39:33.485904Z",
     "start_time": "2024-12-05T13:39:33.471479Z"
    }
   },
   "source": [
    "X_train = data_train.drop(['Activity', 'Activity_code'], axis=1)\n",
    "y_train = np.array(data_train['Activity_code'])\n",
    "\n",
    "X_test = data_test.drop(['Activity', 'Activity_code'], axis=1),\n",
    "y_test = data_test['Activity_code']"
   ],
   "outputs": [],
   "execution_count": 4
  },
  {
   "metadata": {},
   "cell_type": "markdown",
   "source": [
    "## 3. Grid search"
   ],
   "id": "7ecb11a46c7bce0c"
  },
  {
   "cell_type": "code",
   "id": "80caa448",
   "metadata": {
    "execution": {
     "iopub.execute_input": "2024-11-29T15:49:58.840197Z",
     "iopub.status.busy": "2024-11-29T15:49:58.839805Z",
     "iopub.status.idle": "2024-11-29T18:12:53.117681Z",
     "shell.execute_reply": "2024-11-29T18:12:53.116223Z"
    },
    "papermill": {
     "duration": 8574.284552,
     "end_time": "2024-11-29T18:12:53.120516",
     "exception": false,
     "start_time": "2024-11-29T15:49:58.835964",
     "status": "completed"
    },
    "tags": [],
    "ExecuteTime": {
     "end_time": "2024-12-05T13:59:13.389001Z",
     "start_time": "2024-12-05T13:39:33.487360Z"
    }
   },
   "source": [
    "import time\n",
    "from sklearn.linear_model import LogisticRegression\n",
    "from sklearn.model_selection import GridSearchCV\n",
    "\n",
    "# Khởi tạo mô hình\n",
    "model = LogisticRegression()\n",
    "\n",
    "# Lưới siêu tham số\n",
    "param_grid = {\n",
    "    'penalty': ['l1', 'l2', 'elasticnet'],  # Loại regularization\n",
    "    'C': [0.01, 0.1, 1, 10, 20],             # Lực regularization (C = 1/λ)\n",
    "    'solver': ['liblinear', 'saga'],             # Bộ giải (phù hợp với penalty được chọn)\n",
    "    'max_iter': [500, 1000, 2000, 3000],           # Số lần lặp tối đa\n",
    "}\n",
    "\n",
    "# Khởi tạo GridSearchCV\n",
    "grid_search = GridSearchCV(\n",
    "    estimator=model,\n",
    "    param_grid=param_grid,\n",
    "    cv=3,                    # Số lần cross-validation\n",
    "    scoring='accuracy',      # Metric đánh giá\n",
    "    verbose=1,               # Hiển thị chi tiết hơn tiến trình\n",
    "    n_jobs=-1                # Sử dụng toàn bộ CPU\n",
    ")\n",
    "\n",
    "# Theo dõi thời gian\n",
    "start_time = time.time()\n",
    "\n",
    "# Thực hiện tìm kiếm\n",
    "print(\"Starting GridSearchCV...\")\n",
    "grid_search.fit(X_train, y_train)\n",
    "\n",
    "# Tính toán thời gian\n",
    "elapsed_time = time.time() - start_time\n",
    "\n",
    "# Kết quả\n",
    "print(\"GridSearchCV completed!\")\n",
    "print(f\"Elapsed time: {elapsed_time:.2f} seconds\")\n",
    "print('Best params: ', grid_search.best_params_)\n",
    "print('Best score: ', grid_search.best_score_)\n"
   ],
   "outputs": [
    {
     "name": "stdout",
     "output_type": "stream",
     "text": [
      "Starting GridSearchCV...\n",
      "Fitting 3 folds for each of 120 candidates, totalling 360 fits\n"
     ]
    },
    {
     "name": "stderr",
     "output_type": "stream",
     "text": [
      "D:\\App\\anaconda3\\envs\\ML_env\\lib\\site-packages\\sklearn\\model_selection\\_validation.py:540: FitFailedWarning: \n",
      "120 fits failed out of a total of 360.\n",
      "The score on these train-test partitions for these parameters will be set to nan.\n",
      "If these failures are not expected, you can try to debug them by setting error_score='raise'.\n",
      "\n",
      "Below are more details about the failures:\n",
      "--------------------------------------------------------------------------------\n",
      "60 fits failed with the following error:\n",
      "Traceback (most recent call last):\n",
      "  File \"D:\\App\\anaconda3\\envs\\ML_env\\lib\\site-packages\\sklearn\\model_selection\\_validation.py\", line 888, in _fit_and_score\n",
      "    estimator.fit(X_train, y_train, **fit_params)\n",
      "  File \"D:\\App\\anaconda3\\envs\\ML_env\\lib\\site-packages\\sklearn\\base.py\", line 1473, in wrapper\n",
      "    return fit_method(estimator, *args, **kwargs)\n",
      "  File \"D:\\App\\anaconda3\\envs\\ML_env\\lib\\site-packages\\sklearn\\linear_model\\_logistic.py\", line 1194, in fit\n",
      "    solver = _check_solver(self.solver, self.penalty, self.dual)\n",
      "  File \"D:\\App\\anaconda3\\envs\\ML_env\\lib\\site-packages\\sklearn\\linear_model\\_logistic.py\", line 75, in _check_solver\n",
      "    raise ValueError(\n",
      "ValueError: Only 'saga' solver supports elasticnet penalty, got solver=liblinear.\n",
      "\n",
      "--------------------------------------------------------------------------------\n",
      "60 fits failed with the following error:\n",
      "Traceback (most recent call last):\n",
      "  File \"D:\\App\\anaconda3\\envs\\ML_env\\lib\\site-packages\\sklearn\\model_selection\\_validation.py\", line 888, in _fit_and_score\n",
      "    estimator.fit(X_train, y_train, **fit_params)\n",
      "  File \"D:\\App\\anaconda3\\envs\\ML_env\\lib\\site-packages\\sklearn\\base.py\", line 1473, in wrapper\n",
      "    return fit_method(estimator, *args, **kwargs)\n",
      "  File \"D:\\App\\anaconda3\\envs\\ML_env\\lib\\site-packages\\sklearn\\linear_model\\_logistic.py\", line 1204, in fit\n",
      "    raise ValueError(\"l1_ratio must be specified when penalty is elasticnet.\")\n",
      "ValueError: l1_ratio must be specified when penalty is elasticnet.\n",
      "\n",
      "  warnings.warn(some_fits_failed_message, FitFailedWarning)\n",
      "D:\\App\\anaconda3\\envs\\ML_env\\lib\\site-packages\\sklearn\\model_selection\\_search.py:1102: UserWarning: One or more of the test scores are non-finite: [0.85487195 0.82181822 0.90410922 0.91471841        nan        nan\n",
      " 0.85514384 0.82181822 0.90410922 0.91471841        nan        nan\n",
      " 0.85487173 0.82181822 0.90410922 0.91471841        nan        nan\n",
      " 0.85432812 0.82168222 0.90410922 0.91458241        nan        nan\n",
      " 0.924241   0.91662401 0.93199322 0.93403276        nan        nan\n",
      " 0.92492105 0.9162159  0.93199322 0.93403276        nan        nan\n",
      " 0.92410506 0.91635201 0.93199322 0.93403276        nan        nan\n",
      " 0.924105   0.91635201 0.93199322 0.93403276        nan        nan\n",
      " 0.94301052 0.93960999 0.9412427  0.94042631        nan        nan\n",
      " 0.94287457 0.93852183 0.9412427  0.94042631        nan        nan\n",
      " 0.94205858 0.93811367 0.9412427  0.94042631        nan        nan\n",
      " 0.94314663 0.93702573 0.9412427  0.94042631        nan        nan\n",
      " 0.94287446 0.94151453 0.94477928 0.94042637        nan        nan\n",
      " 0.94328263 0.94233063 0.94477928 0.94151469        nan        nan\n",
      " 0.94369068 0.94219486 0.94477928 0.94233074        nan        nan\n",
      " 0.94314657 0.94192269 0.94477928 0.94246674        nan        nan\n",
      " 0.94151453 0.94110648 0.94532327 0.94029037        nan        nan\n",
      " 0.94233052 0.94273874 0.94532327 0.94110664        nan        nan\n",
      " 0.94301085 0.94287479 0.94532327 0.94287496        nan        nan\n",
      " 0.94165058 0.9426028  0.94532327 0.94287491        nan        nan]\n",
      "  warnings.warn(\n"
     ]
    },
    {
     "name": "stdout",
     "output_type": "stream",
     "text": [
      "GridSearchCV completed!\n",
      "Elapsed time: 1179.34 seconds\n",
      "Best params:  {'C': 20, 'max_iter': 500, 'penalty': 'l2', 'solver': 'liblinear'}\n",
      "Best score:  0.9453232749648208\n"
     ]
    }
   ],
   "execution_count": 5
  },
  {
   "metadata": {},
   "cell_type": "markdown",
   "source": [
    "## 4. Save the best model"
   ],
   "id": "5616d15775909a3c"
  },
  {
   "cell_type": "code",
   "id": "e260d094",
   "metadata": {
    "execution": {
     "iopub.execute_input": "2024-11-29T18:12:53.135218Z",
     "iopub.status.busy": "2024-11-29T18:12:53.134661Z",
     "iopub.status.idle": "2024-11-29T18:12:53.143453Z",
     "shell.execute_reply": "2024-11-29T18:12:53.142307Z"
    },
    "papermill": {
     "duration": 0.019308,
     "end_time": "2024-11-29T18:12:53.145652",
     "exception": false,
     "start_time": "2024-11-29T18:12:53.126344",
     "status": "completed"
    },
    "tags": [],
    "ExecuteTime": {
     "end_time": "2024-12-05T14:06:17.645744Z",
     "start_time": "2024-12-05T14:06:17.630283Z"
    }
   },
   "source": [
    "import os\n",
    "import json\n",
    "\n",
    "# Dữ liệu để lưu vào file JSON\n",
    "data = {\n",
    "    \"C\": grid_search.best_params_['C'],\n",
    "    \"max_iter\": grid_search.best_params_['max_iter'],\n",
    "    \"penalty\": grid_search.best_params_['penalty'],\n",
    "    \"solver\": grid_search.best_params_['solver']\n",
    "}\n",
    "\n",
    "# Đường dẫn và tên file JSON\n",
    "directory = \"Best_Hyperparameter/\"\n",
    "filename = \"best_parameter_LogisticRegression.json\"\n",
    "\n",
    "# Tạo thư mục nếu chưa tồn tại\n",
    "os.makedirs(directory, exist_ok=True)\n",
    "\n",
    "# Đường dẫn đầy đủ của file JSON\n",
    "file_path = os.path.join(directory, filename)\n",
    "\n",
    "# Ghi dữ liệu vào file JSON\n",
    "with open(file_path, 'w', encoding='utf-8') as json_file:\n",
    "    json.dump(data, json_file, indent=4, ensure_ascii=False)\n",
    "\n",
    "print(f\"File JSON đã được tạo tại: {file_path}\")\n"
   ],
   "outputs": [
    {
     "name": "stdout",
     "output_type": "stream",
     "text": [
      "File JSON đã được tạo tại: Best_Hyperparameter/best_parameter_LogisticRegression.json\n"
     ]
    }
   ],
   "execution_count": 16
  },
  {
   "metadata": {},
   "cell_type": "markdown",
   "source": [
    "## 5. Results"
   ],
   "id": "125cb423439957b8"
  },
  {
   "metadata": {},
   "cell_type": "markdown",
   "source": [
    "##### Logistic Regression\n",
    "* GridSearchCV completed!\n",
    "* Elapsed time: 8571.93 seconds\n",
    "* Best params:  {'C': 20, 'max_iter': 500, 'penalty': 'l2', 'solver': 'liblinear'}\n",
    "* Best score:  0.945187276052812"
   ],
   "id": "dd3d16e0fa4ba6e0"
  },
  {
   "metadata": {
    "ExecuteTime": {
     "end_time": "2024-12-05T13:59:13.420233Z",
     "start_time": "2024-12-05T13:59:13.405229Z"
    }
   },
   "cell_type": "code",
   "source": [],
   "id": "2194309f9ec94c23",
   "outputs": [],
   "execution_count": 6
  }
 ],
 "metadata": {
  "kaggle": {
   "accelerator": "none",
   "dataSources": [
    {
     "datasetId": 6192830,
     "sourceId": 10051019,
     "sourceType": "datasetVersion"
    }
   ],
   "dockerImageVersionId": 30786,
   "isGpuEnabled": false,
   "isInternetEnabled": true,
   "language": "python",
   "sourceType": "notebook"
  },
  "kernelspec": {
   "display_name": "Python 3",
   "language": "python",
   "name": "python3"
  },
  "language_info": {
   "codemirror_mode": {
    "name": "ipython",
    "version": 3
   },
   "file_extension": ".py",
   "mimetype": "text/x-python",
   "name": "python",
   "nbconvert_exporter": "python",
   "pygments_lexer": "ipython3",
   "version": "3.10.14"
  },
  "papermill": {
   "default_parameters": {},
   "duration": 8583.493931,
   "end_time": "2024-11-29T18:12:55.774484",
   "environment_variables": {},
   "exception": null,
   "input_path": "__notebook__.ipynb",
   "output_path": "__notebook__.ipynb",
   "parameters": {},
   "start_time": "2024-11-29T15:49:52.280553",
   "version": "2.6.0"
  }
 },
 "nbformat": 4,
 "nbformat_minor": 5
}
