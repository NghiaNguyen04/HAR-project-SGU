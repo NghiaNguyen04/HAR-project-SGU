{
 "cells": [
  {
   "metadata": {},
   "cell_type": "markdown",
   "source": [
    "#  Tuning parameters for SVM model"
   ],
   "id": "72fb311760271740"
  },
  {
   "metadata": {
    "ExecuteTime": {
     "end_time": "2024-12-05T14:21:41.739782Z",
     "start_time": "2024-12-05T14:21:41.646522Z"
    }
   },
   "cell_type": "code",
   "source": [
    "import numpy as np\n",
    "import random\n",
    "\n",
    "SEED = 42\n",
    "np.random.seed(SEED)\n",
    "random.seed(SEED)"
   ],
   "id": "1a48934d482f84da",
   "outputs": [],
   "execution_count": 1
  },
  {
   "metadata": {},
   "cell_type": "markdown",
   "source": [
    "## 1. Load the data"
   ],
   "id": "a41afb1e7d19a26b"
  },
  {
   "cell_type": "code",
   "id": "initial_id",
   "metadata": {
    "collapsed": true,
    "ExecuteTime": {
     "end_time": "2024-12-05T14:21:42.482335Z",
     "start_time": "2024-12-05T14:21:41.740783Z"
    }
   },
   "source": [
    "import pandas as pd\n",
    "\n",
    "data_train = pd.read_csv('../../data/interim/trainFinal.csv')\n",
    "data_test = pd.read_csv('../../data/interim/testFinal.csv')\n",
    "data_train.head()"
   ],
   "outputs": [
    {
     "data": {
      "text/plain": [
       "   tBodyAcc-mean()-X  tBodyAcc-mean()-Y  tBodyAcc-mean()-Z  tBodyAcc-std()-X  \\\n",
       "0           0.288585          -0.020294          -0.132905         -0.995279   \n",
       "1           0.278419          -0.016411          -0.123520         -0.998245   \n",
       "2           0.279653          -0.019467          -0.113462         -0.995380   \n",
       "3           0.279174          -0.026201          -0.123283         -0.996091   \n",
       "4           0.276629          -0.016570          -0.115362         -0.998139   \n",
       "\n",
       "   tBodyAcc-std()-Y  tBodyAcc-std()-Z  tBodyAcc-mad()-X  tBodyAcc-mad()-Y  \\\n",
       "0         -0.983111         -0.913526         -0.995112         -0.983185   \n",
       "1         -0.975300         -0.960322         -0.998807         -0.974914   \n",
       "2         -0.967187         -0.978944         -0.996520         -0.963668   \n",
       "3         -0.983403         -0.990675         -0.997099         -0.982750   \n",
       "4         -0.980817         -0.990482         -0.998321         -0.979672   \n",
       "\n",
       "   tBodyAcc-mad()-Z  tBodyAcc-max()-X  ...  fBodyBodyGyroJerkMag-kurtosis()  \\\n",
       "0         -0.923527         -0.934724  ...                        -0.710304   \n",
       "1         -0.957686         -0.943068  ...                        -0.861499   \n",
       "2         -0.977469         -0.938692  ...                        -0.760104   \n",
       "3         -0.989302         -0.938692  ...                        -0.482845   \n",
       "4         -0.990441         -0.942469  ...                        -0.699205   \n",
       "\n",
       "   angle(tBodyAccMean,gravity)  angle(tBodyAccJerkMean),gravityMean)  \\\n",
       "0                    -0.112754                              0.030400   \n",
       "1                     0.053477                             -0.007435   \n",
       "2                    -0.118559                              0.177899   \n",
       "3                    -0.036788                             -0.012892   \n",
       "4                     0.123320                              0.122542   \n",
       "\n",
       "   angle(tBodyGyroMean,gravityMean)  angle(tBodyGyroJerkMean,gravityMean)  \\\n",
       "0                         -0.464761                             -0.018446   \n",
       "1                         -0.732626                              0.703511   \n",
       "2                          0.100699                              0.808529   \n",
       "3                          0.640011                             -0.485366   \n",
       "4                          0.693578                             -0.615971   \n",
       "\n",
       "   angle(X,gravityMean)  angle(Y,gravityMean)  angle(Z,gravityMean)  Activity  \\\n",
       "0             -0.841247              0.179941             -0.058627  STANDING   \n",
       "1             -0.844788              0.180289             -0.054317  STANDING   \n",
       "2             -0.848933              0.180637             -0.049118  STANDING   \n",
       "3             -0.848649              0.181935             -0.047663  STANDING   \n",
       "4             -0.847865              0.185151             -0.043892  STANDING   \n",
       "\n",
       "   Activity_code  \n",
       "0              2  \n",
       "1              2  \n",
       "2              2  \n",
       "3              2  \n",
       "4              2  \n",
       "\n",
       "[5 rows x 563 columns]"
      ],
      "text/html": [
       "<div>\n",
       "<style scoped>\n",
       "    .dataframe tbody tr th:only-of-type {\n",
       "        vertical-align: middle;\n",
       "    }\n",
       "\n",
       "    .dataframe tbody tr th {\n",
       "        vertical-align: top;\n",
       "    }\n",
       "\n",
       "    .dataframe thead th {\n",
       "        text-align: right;\n",
       "    }\n",
       "</style>\n",
       "<table border=\"1\" class=\"dataframe\">\n",
       "  <thead>\n",
       "    <tr style=\"text-align: right;\">\n",
       "      <th></th>\n",
       "      <th>tBodyAcc-mean()-X</th>\n",
       "      <th>tBodyAcc-mean()-Y</th>\n",
       "      <th>tBodyAcc-mean()-Z</th>\n",
       "      <th>tBodyAcc-std()-X</th>\n",
       "      <th>tBodyAcc-std()-Y</th>\n",
       "      <th>tBodyAcc-std()-Z</th>\n",
       "      <th>tBodyAcc-mad()-X</th>\n",
       "      <th>tBodyAcc-mad()-Y</th>\n",
       "      <th>tBodyAcc-mad()-Z</th>\n",
       "      <th>tBodyAcc-max()-X</th>\n",
       "      <th>...</th>\n",
       "      <th>fBodyBodyGyroJerkMag-kurtosis()</th>\n",
       "      <th>angle(tBodyAccMean,gravity)</th>\n",
       "      <th>angle(tBodyAccJerkMean),gravityMean)</th>\n",
       "      <th>angle(tBodyGyroMean,gravityMean)</th>\n",
       "      <th>angle(tBodyGyroJerkMean,gravityMean)</th>\n",
       "      <th>angle(X,gravityMean)</th>\n",
       "      <th>angle(Y,gravityMean)</th>\n",
       "      <th>angle(Z,gravityMean)</th>\n",
       "      <th>Activity</th>\n",
       "      <th>Activity_code</th>\n",
       "    </tr>\n",
       "  </thead>\n",
       "  <tbody>\n",
       "    <tr>\n",
       "      <th>0</th>\n",
       "      <td>0.288585</td>\n",
       "      <td>-0.020294</td>\n",
       "      <td>-0.132905</td>\n",
       "      <td>-0.995279</td>\n",
       "      <td>-0.983111</td>\n",
       "      <td>-0.913526</td>\n",
       "      <td>-0.995112</td>\n",
       "      <td>-0.983185</td>\n",
       "      <td>-0.923527</td>\n",
       "      <td>-0.934724</td>\n",
       "      <td>...</td>\n",
       "      <td>-0.710304</td>\n",
       "      <td>-0.112754</td>\n",
       "      <td>0.030400</td>\n",
       "      <td>-0.464761</td>\n",
       "      <td>-0.018446</td>\n",
       "      <td>-0.841247</td>\n",
       "      <td>0.179941</td>\n",
       "      <td>-0.058627</td>\n",
       "      <td>STANDING</td>\n",
       "      <td>2</td>\n",
       "    </tr>\n",
       "    <tr>\n",
       "      <th>1</th>\n",
       "      <td>0.278419</td>\n",
       "      <td>-0.016411</td>\n",
       "      <td>-0.123520</td>\n",
       "      <td>-0.998245</td>\n",
       "      <td>-0.975300</td>\n",
       "      <td>-0.960322</td>\n",
       "      <td>-0.998807</td>\n",
       "      <td>-0.974914</td>\n",
       "      <td>-0.957686</td>\n",
       "      <td>-0.943068</td>\n",
       "      <td>...</td>\n",
       "      <td>-0.861499</td>\n",
       "      <td>0.053477</td>\n",
       "      <td>-0.007435</td>\n",
       "      <td>-0.732626</td>\n",
       "      <td>0.703511</td>\n",
       "      <td>-0.844788</td>\n",
       "      <td>0.180289</td>\n",
       "      <td>-0.054317</td>\n",
       "      <td>STANDING</td>\n",
       "      <td>2</td>\n",
       "    </tr>\n",
       "    <tr>\n",
       "      <th>2</th>\n",
       "      <td>0.279653</td>\n",
       "      <td>-0.019467</td>\n",
       "      <td>-0.113462</td>\n",
       "      <td>-0.995380</td>\n",
       "      <td>-0.967187</td>\n",
       "      <td>-0.978944</td>\n",
       "      <td>-0.996520</td>\n",
       "      <td>-0.963668</td>\n",
       "      <td>-0.977469</td>\n",
       "      <td>-0.938692</td>\n",
       "      <td>...</td>\n",
       "      <td>-0.760104</td>\n",
       "      <td>-0.118559</td>\n",
       "      <td>0.177899</td>\n",
       "      <td>0.100699</td>\n",
       "      <td>0.808529</td>\n",
       "      <td>-0.848933</td>\n",
       "      <td>0.180637</td>\n",
       "      <td>-0.049118</td>\n",
       "      <td>STANDING</td>\n",
       "      <td>2</td>\n",
       "    </tr>\n",
       "    <tr>\n",
       "      <th>3</th>\n",
       "      <td>0.279174</td>\n",
       "      <td>-0.026201</td>\n",
       "      <td>-0.123283</td>\n",
       "      <td>-0.996091</td>\n",
       "      <td>-0.983403</td>\n",
       "      <td>-0.990675</td>\n",
       "      <td>-0.997099</td>\n",
       "      <td>-0.982750</td>\n",
       "      <td>-0.989302</td>\n",
       "      <td>-0.938692</td>\n",
       "      <td>...</td>\n",
       "      <td>-0.482845</td>\n",
       "      <td>-0.036788</td>\n",
       "      <td>-0.012892</td>\n",
       "      <td>0.640011</td>\n",
       "      <td>-0.485366</td>\n",
       "      <td>-0.848649</td>\n",
       "      <td>0.181935</td>\n",
       "      <td>-0.047663</td>\n",
       "      <td>STANDING</td>\n",
       "      <td>2</td>\n",
       "    </tr>\n",
       "    <tr>\n",
       "      <th>4</th>\n",
       "      <td>0.276629</td>\n",
       "      <td>-0.016570</td>\n",
       "      <td>-0.115362</td>\n",
       "      <td>-0.998139</td>\n",
       "      <td>-0.980817</td>\n",
       "      <td>-0.990482</td>\n",
       "      <td>-0.998321</td>\n",
       "      <td>-0.979672</td>\n",
       "      <td>-0.990441</td>\n",
       "      <td>-0.942469</td>\n",
       "      <td>...</td>\n",
       "      <td>-0.699205</td>\n",
       "      <td>0.123320</td>\n",
       "      <td>0.122542</td>\n",
       "      <td>0.693578</td>\n",
       "      <td>-0.615971</td>\n",
       "      <td>-0.847865</td>\n",
       "      <td>0.185151</td>\n",
       "      <td>-0.043892</td>\n",
       "      <td>STANDING</td>\n",
       "      <td>2</td>\n",
       "    </tr>\n",
       "  </tbody>\n",
       "</table>\n",
       "<p>5 rows × 563 columns</p>\n",
       "</div>"
      ]
     },
     "execution_count": 2,
     "metadata": {},
     "output_type": "execute_result"
    }
   ],
   "execution_count": 2
  },
  {
   "metadata": {},
   "cell_type": "markdown",
   "source": [
    "## 2. Create X and y variables"
   ],
   "id": "2e9afed3c649858"
  },
  {
   "metadata": {
    "ExecuteTime": {
     "end_time": "2024-12-05T14:21:42.498787Z",
     "start_time": "2024-12-05T14:21:42.483784Z"
    }
   },
   "cell_type": "code",
   "source": [
    "X_train = data_train.drop(['Activity', 'Activity_code'], axis=1)\n",
    "y_train = np.array(data_train['Activity_code'])\n",
    "\n",
    "X_test = data_test.drop(['Activity', 'Activity_code'], axis=1),\n",
    "y_test = data_test['Activity_code']"
   ],
   "id": "ee503a4276512301",
   "outputs": [],
   "execution_count": 3
  },
  {
   "metadata": {},
   "cell_type": "markdown",
   "source": [
    "## 3. GridSearch"
   ],
   "id": "a86cfceaa43efabf"
  },
  {
   "metadata": {
    "ExecuteTime": {
     "end_time": "2024-12-05T14:25:38.633891Z",
     "start_time": "2024-12-05T14:21:42.499294Z"
    }
   },
   "cell_type": "code",
   "source": [
    "from sklearn.svm import SVC\n",
    "import time\n",
    "from sklearn.model_selection import GridSearchCV\n",
    "\n",
    "# Khởi tạo mô hình\n",
    "model = SVC()\n",
    "\n",
    "# Lưới siêu tham số\n",
    "param_grid = {\n",
    "    'C': [1, 8, 16],                            # Tham số điều chuẩ\n",
    "    'kernel': ['linear', 'rbf'],                # Kernel sử dụng\n",
    "    'degree': [3 , 4],                        # Bậc của đa thức (nếu kernel='poly')\n",
    "    'gamma': ['scale', 'auto', 0.01, 0.1], # Hệ số kernel (áp dụng với rbf, poly, sigmoid)\n",
    "    'coef0': [0, 0.1, 0.5],                     # Chỉ dùng cho kernel 'poly' và 'sigmoid'\n",
    "}\n",
    "\n",
    "# Khởi tạo GridSearchCV\n",
    "grid_search = GridSearchCV(\n",
    "    estimator=model,\n",
    "    param_grid=param_grid,\n",
    "    cv=3,                    # Số lần cross-validation\n",
    "    scoring='accuracy',      # Metric đánh giá\n",
    "    verbose=1,               # Hiển thị chi tiết hơn tiến trình\n",
    "    n_jobs=-1                # Sử dụng toàn bộ CPU\n",
    ")\n",
    "\n",
    "# Theo dõi thời gian\n",
    "start_time = time.time()\n",
    "\n",
    "# Thực hiện tìm kiếm\n",
    "print(\"Starting GridSearchCV...\")\n",
    "grid_search.fit(X_train, y_train)\n",
    "\n",
    "# Tính toán thời gian\n",
    "elapsed_time = time.time() - start_time\n",
    "\n",
    "# Kết quả\n",
    "print(\"GridSearchCV completed!\")\n",
    "print(f\"Elapsed time: {elapsed_time:.2f} seconds\")\n",
    "print('Best params: ', grid_search.best_params_)\n",
    "print('Best score: ', grid_search.best_score_)\n"
   ],
   "id": "79985fcc2bdfbd77",
   "outputs": [
    {
     "name": "stdout",
     "output_type": "stream",
     "text": [
      "Starting GridSearchCV...\n",
      "Fitting 3 folds for each of 144 candidates, totalling 432 fits\n",
      "GridSearchCV completed!\n",
      "Elapsed time: 235.56 seconds\n",
      "Best params:  {'C': 16, 'coef0': 0, 'degree': 3, 'gamma': 0.01, 'kernel': 'rbf'}\n",
      "Best score:  0.9446426142876572\n"
     ]
    }
   ],
   "execution_count": 4
  },
  {
   "metadata": {},
   "cell_type": "markdown",
   "source": [
    "## 4. Save the best model"
   ],
   "id": "2fb0d00584d6443d"
  },
  {
   "metadata": {
    "ExecuteTime": {
     "end_time": "2024-12-05T14:25:38.649220Z",
     "start_time": "2024-12-05T14:25:38.635872Z"
    }
   },
   "cell_type": "code",
   "source": [
    "import os\n",
    "import json\n",
    "\n",
    "# Dữ liệu để lưu vào file JSON\n",
    "data = {\n",
    "    \"C\": grid_search.best_params_['C'],\n",
    "    \"kernel\": grid_search.best_params_['kernel'],\n",
    "    \"degree\": grid_search.best_params_['degree'],\n",
    "    \"gamma\": grid_search.best_params_['gamma'],\n",
    "    \"coef0\": grid_search.best_params_['coef0'],\n",
    "}\n",
    "\n",
    "# Đường dẫn và tên file JSON\n",
    "directory = \"Best_Hyperparameter/\"\n",
    "filename = \"best_parameter_SVM.json\"\n",
    "\n",
    "# Tạo thư mục nếu chưa tồn tại\n",
    "os.makedirs(directory, exist_ok=True)\n",
    "\n",
    "# Đường dẫn đầy đủ của file JSON\n",
    "file_path = os.path.join(directory, filename)\n",
    "\n",
    "# Ghi dữ liệu vào file JSON\n",
    "with open(file_path, 'w', encoding='utf-8') as json_file:\n",
    "    json.dump(data, json_file, indent=4, ensure_ascii=False)\n",
    "\n",
    "print(f\"File JSON đã được tạo tại: {file_path}\")\n"
   ],
   "id": "734d9e204cc5de50",
   "outputs": [
    {
     "name": "stdout",
     "output_type": "stream",
     "text": [
      "File JSON đã được tạo tại: Best_Hyperparameter/best_parameter_SVM.json\n"
     ]
    }
   ],
   "execution_count": 5
  },
  {
   "metadata": {},
   "cell_type": "markdown",
   "source": [
    "## 5. Results"
   ],
   "id": "844592dec48b6ecc"
  },
  {
   "metadata": {},
   "cell_type": "markdown",
   "source": [
    "##### Support Vector Machine\n",
    "* GridSearchCV completed!\n",
    "* Elapsed time: 247.81 seconds\n",
    "* Best params:  {'C': 16, 'coef0': 0, 'degree': 3, 'gamma': 0.01, 'kernel': 'rbf'}\n",
    "* Best score:  0.9446426142876572"
   ],
   "id": "2cf8bbf21b05cbfc"
  },
  {
   "metadata": {
    "ExecuteTime": {
     "end_time": "2024-12-05T14:25:38.664728Z",
     "start_time": "2024-12-05T14:25:38.650224Z"
    }
   },
   "cell_type": "code",
   "source": [],
   "id": "dfbe178aa6f4ed31",
   "outputs": [],
   "execution_count": 5
  }
 ],
 "metadata": {
  "kernelspec": {
   "display_name": "Python 3",
   "language": "python",
   "name": "python3"
  },
  "language_info": {
   "codemirror_mode": {
    "name": "ipython",
    "version": 2
   },
   "file_extension": ".py",
   "mimetype": "text/x-python",
   "name": "python",
   "nbconvert_exporter": "python",
   "pygments_lexer": "ipython2",
   "version": "2.7.6"
  }
 },
 "nbformat": 4,
 "nbformat_minor": 5
}
